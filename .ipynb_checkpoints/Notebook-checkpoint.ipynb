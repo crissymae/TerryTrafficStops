{
 "cells": [
  {
   "cell_type": "code",
   "execution_count": null,
   "metadata": {},
   "outputs": [],
   "source": [
    "#Imports\n",
    "\n",
    "import numpy as np\n",
    "import pandas as pd \n",
    "import seaborn as sns\n",
    "import matplotlib.pyplot as plt\n",
    "%matplotlib inline\n",
    "\n",
    "from sklearn.model_selection import train_test_split\n",
    "from sklearn.metrics import classification_report,confusion_matrix,mean_squared_error\n",
    "from sklearn.metrics import precision_score, recall_score, accuracy_score, f1_score\n",
    "from sklearn.preprocessing import StandardScaler\n",
    "\n",
    "\n",
    "import warnings\n",
    "warnings.filterwarnings('ignore')\n",
    "\n",
    "#data = pd.read_csv('Terry_Stops.csv')\n",
    "data = pd.read_csv('Terry_Stops.csv', skipinitialspace=True)"
   ]
  },
  {
   "cell_type": "markdown",
   "metadata": {},
   "source": [
    "# First, examine the data to understand type of data, what elements to remove, how to deal with NaN values, organize, and run baseline model"
   ]
  },
  {
   "cell_type": "code",
   "execution_count": null,
   "metadata": {},
   "outputs": [],
   "source": [
    "data.info()"
   ]
  },
  {
   "cell_type": "code",
   "execution_count": null,
   "metadata": {},
   "outputs": [],
   "source": [
    "#Get rid of columns that will not be used:   Subject ID, GO /SC Num (not sure what this is), Terry Stop ID\n",
    "data=data.drop(columns=['Subject ID', 'GO / SC Num', 'Terry Stop ID','Officer Squad', 'Officer ID', 'Beat' , 'Reported Date', 'Reported Time'])"
   ]
  },
  {
   "cell_type": "code",
   "execution_count": null,
   "metadata": {},
   "outputs": [],
   "source": [
    "data.head()"
   ]
  },
  {
   "cell_type": "code",
   "execution_count": null,
   "metadata": {},
   "outputs": [],
   "source": [
    "#Looking at value counts within each column to check for non-numeral characters etc.\n",
    "for column in data.columns:\n",
    "     print(\"\\n\" + column)\n",
    "     print(data[column].value_counts())"
   ]
  },
  {
   "cell_type": "code",
   "execution_count": null,
   "metadata": {},
   "outputs": [],
   "source": [
    "#Replacing dashes with 'Unknown'\n",
    "data = data.replace(['-'],'Unknown')"
   ]
  },
  {
   "cell_type": "code",
   "execution_count": null,
   "metadata": {},
   "outputs": [],
   "source": [
    "#Checking that dashes were replaced with 'Unknown'\n",
    "for column in data.columns:\n",
    "     print(\"\\n\" + column)\n",
    "     print(data[column].value_counts())"
   ]
  },
  {
   "cell_type": "code",
   "execution_count": null,
   "metadata": {},
   "outputs": [],
   "source": [
    "#Removing spaces from column names\n",
    "data.columns = data.columns.str.replace(' ', '')"
   ]
  },
  {
   "cell_type": "code",
   "execution_count": null,
   "metadata": {},
   "outputs": [],
   "source": [
    "# To help identify categorical columns\n",
    "for col in data.columns:\n",
    "    print(col,'               ', len(data[col].unique()))"
   ]
  },
  {
   "cell_type": "code",
   "execution_count": null,
   "metadata": {},
   "outputs": [],
   "source": [
    "#Categorize Office YOB based on 10 year interval\n",
    "OfficerYOB = pd.cut(data['OfficerYOB'], [1900,1949,1959,1969,1979,1989,1998], labels=['Oldest', 'SecondOldest', 'ThirdOldest', 'FourthOldest', 'FifthOldest','Youngest'])\n",
    "OfficerYOB_dummies = pd.get_dummies(OfficerYOB)\n",
    "data = pd.concat([data, OfficerYOB_dummies], axis=1)"
   ]
  },
  {
   "cell_type": "code",
   "execution_count": null,
   "metadata": {},
   "outputs": [],
   "source": [
    "SubAgeGrp_dummies = pd.get_dummies(data['SubjectAgeGroup'], prefix='SubAgeGrp')\n",
    "ArrFlg_dummies = pd.get_dummies(data['ArrestFlag'], prefix='ArrFlg')\n",
    "FrkFlg_dummies = pd.get_dummies(data['FriskFlag'], prefix='FrkFlg')\n",
    "StpRes_dummies = pd.get_dummies(data['StopResolution'], prefix='StpRes')\n",
    "WpType_dummies = pd.get_dummies(data['WeaponType'], prefix='WpType')\n",
    "OffGend_dummies = pd.get_dummies(data['OfficerGender'], prefix='OffGend')\n",
    "OffRace_dummies = pd.get_dummies(data['OfficerRace'], prefix='OffRace')\n",
    "SubPerRace_dummies = pd.get_dummies(data['SubjectPerceivedRace'], prefix='SubPerRace')\n",
    "SubPerGend_dummies = pd.get_dummies(data['SubjectPerceivedGender'], prefix='SubPerGend')\n",
    "CallTyp_dummies = pd.get_dummies(data['CallType'], prefix='CallTyp')\n",
    "Prect_dummies = pd.get_dummies(data['Precinct'], prefix='Prect')\n",
    "Sect_dummies = pd.get_dummies(data['Sector'], prefix='Sect')"
   ]
  },
  {
   "cell_type": "code",
   "execution_count": null,
   "metadata": {},
   "outputs": [],
   "source": [
    "#removing original columns from dummies creations.  Also decided to drop the initial and final call types columns as they are not a part of my project objective.\n",
    "data = data.drop(['SubjectAgeGroup','OfficerYOB','StopResolution', 'WeaponType', 'OfficerGender', 'OfficerRace','InitialCallType', 'FinalCallType','SubjectPerceivedRace', 'SubjectPerceivedGender', 'CallType', 'Precinct', 'Sector', 'ArrestFlag', 'FriskFlag'], axis=1)"
   ]
  },
  {
   "cell_type": "code",
   "execution_count": null,
   "metadata": {},
   "outputs": [],
   "source": [
    "data = pd.concat([data, StpRes_dummies, WpType_dummies, OffGend_dummies, OffRace_dummies, SubPerRace_dummies, SubPerGend_dummies, CallTyp_dummies, Prect_dummies, Sect_dummies, ArrFlg_dummies, FrkFlg_dummies], axis=1)\n",
    "data.head()"
   ]
  },
  {
   "cell_type": "code",
   "execution_count": null,
   "metadata": {},
   "outputs": [],
   "source": [
    "from sklearn.tree import DecisionTreeRegressor, DecisionTreeClassifier\n",
    "from sklearn.model_selection import train_test_split, cross_val_score\n",
    "from sklearn.externals.six import StringIO\n",
    "from IPython.display import Image\n",
    "from sklearn.tree import export_graphviz\n",
    "import pydotplus\n",
    "from sklearn.metrics import mean_squared_error, accuracy_score\n",
    "from sklearn.model_selection import train_test_split\n",
    "from sklearn.metrics import accuracy_score\n",
    "from sklearn.preprocessing import OneHotEncoder\n",
    "from sklearn import tree\n",
    "import math"
   ]
  },
  {
   "cell_type": "code",
   "execution_count": null,
   "metadata": {},
   "outputs": [],
   "source": [
    "for column in data.columns:\n",
    "     print(\"\\n\" + column)\n",
    "     print(data[column].value_counts())"
   ]
  },
  {
   "cell_type": "code",
   "execution_count": null,
   "metadata": {},
   "outputs": [],
   "source": [
    "#combine Prect_SouthWest and Prect_Southwest columns into one column\n",
    "data['Prect_SWest'] = data['Prect_SouthWest'] + data['Prect_Southwest']"
   ]
  },
  {
   "cell_type": "code",
   "execution_count": null,
   "metadata": {},
   "outputs": [],
   "source": [
    "data = data.drop(['Prect_SouthWest', 'Prect_Southwest'], axis=1)"
   ]
  },
  {
   "cell_type": "code",
   "execution_count": null,
   "metadata": {},
   "outputs": [],
   "source": [
    "for column in data.columns:\n",
    "     print(\"\\n\" + column)\n",
    "     print(data[column].value_counts())"
   ]
  },
  {
   "cell_type": "markdown",
   "metadata": {},
   "source": [
    "#Baseline Model Selection: Decison Tree"
   ]
  },
  {
   "cell_type": "code",
   "execution_count": null,
   "metadata": {},
   "outputs": [],
   "source": [
    "#define dependent/independent variables, thinking it would be interesting to know if there is a relationship with race, age, sex and precincts\n",
    "X = data[['OffGend_F', 'OffGend_M', 'OffGend_N', 'OffRace_American Indian/Alaska Native', 'OffRace_Asian', 'OffRace_Black or African American', 'OffRace_Hispanic or Latino', 'OffRace_Nat Hawaiian/Oth Pac Islander', 'OffRace_Not Specified', 'OffRace_Two or More Races', 'OffRace_Unknown', 'OffRace_White', 'SubPerRace_American Indian or Alaska Native', 'SubPerRace_Asian', 'SubPerRace_Black or African American', 'SubPerRace_Hispanic', 'SubPerRace_Multi-Racial', 'SubPerRace_Native Hawaiian or Other Pacific Islander', 'SubPerRace_Other', 'SubPerRace_Unknown', 'SubPerRace_White', 'SubPerGend_Female', 'SubPerGend_Gender Diverse (gender non-conforming and/or transgender)', 'SubPerGend_Male', 'SubPerGend_Unable to Determine', 'SubPerGend_Unknown', 'Oldest', 'SecondOldest', 'ThirdOldest', 'FourthOldest', 'FifthOldest', 'Youngest', 'Prect_East', 'Prect_FK ERROR', 'Prect_North', 'Prect_OOJ', 'Prect_South', 'Prect_SWest', 'Prect_Unknown', 'Prect_West']] \n",
    "y = data.ArrFlg_Y"
   ]
  },
  {
   "cell_type": "code",
   "execution_count": null,
   "metadata": {},
   "outputs": [],
   "source": [
    "#splitting the data into training & testing set\n",
    "X_train, X_test, y_train,y_test = train_test_split(X,y,test_size = 0.3, random_state = 42)"
   ]
  },
  {
   "cell_type": "code",
   "execution_count": null,
   "metadata": {},
   "outputs": [],
   "source": [
    "#instantiate a regression instance\n",
    "regTree = DecisionTreeRegressor(max_depth = 5)\n",
    "\n",
    "# fit the tree\n",
    "regTree.fit(X_train, y_train)"
   ]
  },
  {
   "cell_type": "code",
   "execution_count": null,
   "metadata": {},
   "outputs": [],
   "source": [
    "dot_data = StringIO()\n",
    "export_graphviz(regTree, out_file=dot_data, special_characters=True)\n",
    "\n",
    "graph = pydotplus.graph_from_dot_data(dot_data.getvalue())\n",
    "Image(graph.create_png())"
   ]
  },
  {
   "cell_type": "code",
   "execution_count": null,
   "metadata": {},
   "outputs": [],
   "source": [
    "#use the model to predict the testing and compare mse\n",
    "regPred = regTree.predict(X_test)"
   ]
  },
  {
   "cell_type": "code",
   "execution_count": null,
   "metadata": {},
   "outputs": [],
   "source": [
    "#comparing the results and plot them\n",
    "mse = mean_squared_error(regPred, y_test)\n",
    "print(mse)\n",
    "rmse = math.sqrt(mse)\n",
    "print(rmse)"
   ]
  },
  {
   "cell_type": "code",
   "execution_count": null,
   "metadata": {},
   "outputs": [],
   "source": [
    "# Create the classifier, fit it on the training data and make predictions on the test set\n",
    "clf = DecisionTreeClassifier(criterion='entropy')\n",
    "\n",
    "clf.fit(X_train, y_train)"
   ]
  },
  {
   "cell_type": "code",
   "execution_count": null,
   "metadata": {},
   "outputs": [],
   "source": [
    "fig, axes = plt.subplots(nrows = 1,ncols = 1, figsize = (3,3), dpi=300)\n",
    "tree.plot_tree(clf,\n",
    "               feature_names = data.columns, \n",
    "               class_names=np.unique(y).astype('str'),\n",
    "               filled = True)\n",
    "plt.show()"
   ]
  },
  {
   "cell_type": "code",
   "execution_count": null,
   "metadata": {},
   "outputs": [],
   "source": [
    "dt_clf = DecisionTreeClassifier()\n",
    "\n",
    "dt_cv_score = cross_val_score(dt_clf, X_train, y_train, cv=3)\n",
    "mean_dt_cv_score = np.mean(dt_cv_score)\n",
    "\n",
    "print(f\"Mean Cross Validation Score: {mean_dt_cv_score :.2%}\")"
   ]
  },
  {
   "cell_type": "code",
   "execution_count": null,
   "metadata": {},
   "outputs": [],
   "source": [
    "#Tree Ensembles and Random Forests\n",
    "#3 predictors are Precinct, Subject Race, Officer Race\n",
    "from sklearn.ensemble import BaggingClassifier, RandomForestClassifier"
   ]
  },
  {
   "cell_type": "code",
   "execution_count": null,
   "metadata": {},
   "outputs": [],
   "source": [
    "#selecting only the predictors to use for Tree Ensembles and Random Forests\n",
    "X = data[[ 'OffRace_American Indian/Alaska Native', 'OffRace_Asian', 'OffRace_Black or African American', 'OffRace_Hispanic or Latino', 'OffRace_Nat Hawaiian/Oth Pac Islander', 'OffRace_Not Specified', 'OffRace_Two or More Races', 'OffRace_Unknown', 'OffRace_White', 'SubPerRace_American Indian or Alaska Native', 'SubPerRace_Asian', 'SubPerRace_Black or African American', 'SubPerRace_Hispanic', 'SubPerRace_Multi-Racial', 'SubPerRace_Native Hawaiian or Other Pacific Islander', 'SubPerRace_Other', 'SubPerRace_Unknown', 'SubPerRace_White', 'Prect_East', 'Prect_FK ERROR', 'Prect_North', 'Prect_OOJ', 'Prect_South', 'Prect_SWest', 'Prect_Unknown', 'Prect_West']] \n",
    "y = data.ArrFlg_Y"
   ]
  },
  {
   "cell_type": "code",
   "execution_count": null,
   "metadata": {},
   "outputs": [],
   "source": [
    "X_train, X_test, y_train, y_test = train_test_split(X, y,  \n",
    "                                                                    test_size = 0.25, random_state=123)"
   ]
  },
  {
   "cell_type": "code",
   "execution_count": null,
   "metadata": {},
   "outputs": [],
   "source": [
    "# Instantiate and fit a DecisionTreeClassifier\n",
    "tree_clf = DecisionTreeClassifier(criterion='gini', max_depth=5) \n",
    "tree_clf.fit(X_train, y_train)"
   ]
  },
  {
   "cell_type": "code",
   "execution_count": null,
   "metadata": {},
   "outputs": [],
   "source": [
    "#remove columns that will not be used in Tree Ensembles and Random Forests\n",
    "data=data.drop(['OffGend_F', 'OffGend_M', 'OffGend_N', 'SubPerGend_Female', 'SubPerGend_Gender Diverse (gender non-conforming and/or transgender)', 'SubPerGend_Male', 'SubPerGend_Unable to Determine', 'SubPerGend_Unknown', 'Oldest', 'SecondOldest', 'ThirdOldest', 'FourthOldest', 'FifthOldest', 'Youngest'], axis=1)"
   ]
  },
  {
   "cell_type": "code",
   "execution_count": null,
   "metadata": {},
   "outputs": [],
   "source": [
    "#First, we'll need to store our 'Target' column in a separate variable and drop it from the dataset.\n",
    "#Do this in the cell below\n",
    "# Split the outcome and predictor variables\n",
    "target = data['ArrFlg_Y']\n",
    "data = data.drop(\"ArrFlg_Y\", axis=1)"
   ]
  },
  {
   "cell_type": "code",
   "execution_count": null,
   "metadata": {},
   "outputs": [],
   "source": [
    "DecisionTreeClassifier(class_weight=None, criterion='gini', max_depth=5,\n",
    "                       max_features=None, max_leaf_nodes=None,\n",
    "                       min_impurity_decrease=0.0, min_impurity_split=None,\n",
    "                       min_samples_leaf=1, min_samples_split=2,\n",
    "                       min_weight_fraction_leaf=0.0, presort=False,\n",
    "                       random_state=None, splitter='best')"
   ]
  },
  {
   "cell_type": "code",
   "execution_count": null,
   "metadata": {},
   "outputs": [],
   "source": [
    "# Feature importance\n",
    "tree_clf.feature_importances_"
   ]
  },
  {
   "cell_type": "code",
   "execution_count": null,
   "metadata": {},
   "outputs": [],
   "source": [
    "def plot_feature_importances(model):\n",
    "    n_features = X_train.shape[1]\n",
    "    plt.figure(figsize=(8,8))\n",
    "    plt.barh(range(n_features), model.feature_importances_, align='center') \n",
    "    plt.yticks(np.arange(n_features), X_train.columns.values) \n",
    "    plt.xlabel('Feature importance')\n",
    "    plt.ylabel('Feature')\n",
    "\n",
    "plot_feature_importances(tree_clf)"
   ]
  },
  {
   "cell_type": "code",
   "execution_count": null,
   "metadata": {},
   "outputs": [],
   "source": [
    "#Model Performance"
   ]
  },
  {
   "cell_type": "code",
   "execution_count": null,
   "metadata": {},
   "outputs": [],
   "source": [
    "#Test Set Predictions\n",
    "pred = tree_clf.predict(X_test)\n",
    "\n",
    "#Confusion matrix and classification report\n",
    "print(confusion_matrix(y_test, pred))\n",
    "print (classification_report(y_test, pred))"
   ]
  },
  {
   "cell_type": "code",
   "execution_count": null,
   "metadata": {},
   "outputs": [],
   "source": [
    "print(\"Testing Accuracy for Decision Tree Classifier: {:.4}%\".format(accuracy_score(y_test, pred) * 100))"
   ]
  },
  {
   "cell_type": "code",
   "execution_count": null,
   "metadata": {},
   "outputs": [],
   "source": [
    "#Bagged Trees"
   ]
  },
  {
   "cell_type": "code",
   "execution_count": null,
   "metadata": {},
   "outputs": [],
   "source": [
    "# Instantiate a BaggingClassifier\n",
    "bagged_tree =  BaggingClassifier(DecisionTreeClassifier(criterion='gini', max_depth=5), \n",
    "                                 n_estimators=20)"
   ]
  },
  {
   "cell_type": "code",
   "execution_count": null,
   "metadata": {},
   "outputs": [],
   "source": [
    "# Fit to the training data\n",
    "bagged_tree.fit(X_train, y_train)"
   ]
  },
  {
   "cell_type": "code",
   "execution_count": null,
   "metadata": {},
   "outputs": [],
   "source": [
    "BaggingClassifier(base_estimator=DecisionTreeClassifier(class_weight=None,\n",
    "                                                        criterion='gini',\n",
    "                                                        max_depth=5,\n",
    "                                                        max_features=None,\n",
    "                                                        max_leaf_nodes=None,\n",
    "                                                        min_impurity_decrease=0.0,\n",
    "                                                        min_impurity_split=None,\n",
    "                                                        min_samples_leaf=1,\n",
    "                                                        min_samples_split=2,\n",
    "                                                        min_weight_fraction_leaf=0.0,\n",
    "                                                        presort=False,\n",
    "                                                        random_state=None,\n",
    "                                                        splitter='best'),\n",
    "                  bootstrap=True, bootstrap_features=False, max_features=1.0,\n",
    "                  max_samples=1.0, n_estimators=20, n_jobs=None,\n",
    "                  oob_score=False, random_state=None, verbose=0,\n",
    "                  warm_start=False)"
   ]
  },
  {
   "cell_type": "code",
   "execution_count": null,
   "metadata": {},
   "outputs": [],
   "source": [
    "# Training accuracy score\n",
    "bagged_tree.score(X_train, y_train)"
   ]
  },
  {
   "cell_type": "code",
   "execution_count": null,
   "metadata": {},
   "outputs": [],
   "source": [
    "# Test accuracy score\n",
    "bagged_tree.score(X_test, y_test)"
   ]
  },
  {
   "cell_type": "code",
   "execution_count": null,
   "metadata": {},
   "outputs": [],
   "source": [
    "# Instantiate and fit a RandomForestClassifier\n",
    "forest = RandomForestClassifier(n_estimators=100, max_depth= 5)\n",
    "forest.fit(X_train, y_train)"
   ]
  },
  {
   "cell_type": "code",
   "execution_count": null,
   "metadata": {},
   "outputs": [],
   "source": [
    "RandomForestClassifier(bootstrap=True, class_weight=None, criterion='gini',\n",
    "                       max_depth=5, max_features='auto', max_leaf_nodes=None,\n",
    "                       min_impurity_decrease=0.0, min_impurity_split=None,\n",
    "                       min_samples_leaf=1, min_samples_split=2,\n",
    "                       min_weight_fraction_leaf=0.0, n_estimators=100,\n",
    "                       n_jobs=None, oob_score=False, random_state=None,\n",
    "                       verbose=0, warm_start=False)"
   ]
  },
  {
   "cell_type": "code",
   "execution_count": null,
   "metadata": {},
   "outputs": [],
   "source": [
    "# Training accuracy score\n",
    "forest.score(X_train, y_train)"
   ]
  },
  {
   "cell_type": "code",
   "execution_count": null,
   "metadata": {},
   "outputs": [],
   "source": [
    "# Test accuracy score\n",
    "forest.score(X_test, y_test)"
   ]
  },
  {
   "cell_type": "code",
   "execution_count": null,
   "metadata": {},
   "outputs": [],
   "source": [
    "plot_feature_importances(forest)"
   ]
  },
  {
   "cell_type": "code",
   "execution_count": null,
   "metadata": {},
   "outputs": [],
   "source": [
    "# Instantiate and fit a RandomForestClassifier\n",
    "forest_2 = RandomForestClassifier(n_estimators = 5, max_features= 10, max_depth= 2)\n",
    "forest_2.fit(X_train, y_train)"
   ]
  },
  {
   "cell_type": "code",
   "execution_count": null,
   "metadata": {},
   "outputs": [],
   "source": [
    "RandomForestClassifier(bootstrap=True, class_weight=None, criterion='gini',\n",
    "                       max_depth=2, max_features=10, max_leaf_nodes=None,\n",
    "                       min_impurity_decrease=0.0, min_impurity_split=None,\n",
    "                       min_samples_leaf=1, min_samples_split=2,\n",
    "                       min_weight_fraction_leaf=0.0, n_estimators=5,\n",
    "                       n_jobs=None, oob_score=False, random_state=None,\n",
    "                       verbose=0, warm_start=False)"
   ]
  },
  {
   "cell_type": "code",
   "execution_count": null,
   "metadata": {},
   "outputs": [],
   "source": [
    "# First tree from forest_2\n",
    "rf_tree_1 = forest_2.estimators_[0]"
   ]
  },
  {
   "cell_type": "code",
   "execution_count": null,
   "metadata": {},
   "outputs": [],
   "source": [
    "# Feature importance\n",
    "plot_feature_importances(rf_tree_1)"
   ]
  },
  {
   "cell_type": "code",
   "execution_count": null,
   "metadata": {},
   "outputs": [],
   "source": [
    "# Second tree from forest_2\n",
    "rf_tree_2 = forest_2.estimators_[1]"
   ]
  },
  {
   "cell_type": "code",
   "execution_count": null,
   "metadata": {},
   "outputs": [],
   "source": [
    "# Feature importance\n",
    "plot_feature_importances(rf_tree_2)"
   ]
  },
  {
   "cell_type": "code",
   "execution_count": null,
   "metadata": {},
   "outputs": [],
   "source": [
    "#Grid Search"
   ]
  },
  {
   "cell_type": "code",
   "execution_count": null,
   "metadata": {},
   "outputs": [],
   "source": [
    "dt_clf = DecisionTreeClassifier()"
   ]
  },
  {
   "cell_type": "code",
   "execution_count": null,
   "metadata": {},
   "outputs": [],
   "source": [
    "dt_cv_score = cross_val_score(dt_clf, X_train, y_train, cv=3)\n",
    "mean_dt_cv_score = np.mean(dt_cv_score)\n",
    "print(f\"Mean Cross Validation Score: {mean_dt_cv_score: .2%}\")"
   ]
  },
  {
   "cell_type": "code",
   "execution_count": null,
   "metadata": {},
   "outputs": [],
   "source": [
    "dt_param_grid = {\n",
    "    'criterion': ['gini', 'entropy'],\n",
    "    'max_depth': [None, 2, 3, 4, 5, 6],\n",
    "    'min_samples_split': [2, 5, 10],\n",
    "    'min_samples_leaf': [1, 2, 3, 4, 5, 6]}\n"
   ]
  },
  {
   "cell_type": "code",
   "execution_count": null,
   "metadata": {},
   "outputs": [],
   "source": [
    "num_decision_trees = 3*2*6*3*6\n",
    "print(f\"Grid Search will have to search through {num_decision_trees} different permutations\")"
   ]
  },
  {
   "cell_type": "code",
   "execution_count": null,
   "metadata": {},
   "outputs": [],
   "source": [
    "#Import library needed for Grid Search\n",
    "from sklearn.model_selection import train_test_split, GridSearchCV, cross_val_score\n",
    "\n",
    "#Instantiate Grid Search\n",
    "dt_grid_search = GridSearchCV(dt_clf, dt_param_grid, cv=3, return_train_score=True)"
   ]
  },
  {
   "cell_type": "code",
   "execution_count": null,
   "metadata": {},
   "outputs": [],
   "source": [
    "dt_grid_search.fit(X_train, y_train)"
   ]
  },
  {
   "cell_type": "code",
   "execution_count": null,
   "metadata": {},
   "outputs": [],
   "source": [
    "GridSearchCV(cv=3, error_score='raise-deprecating',\n",
    "             estimator=DecisionTreeClassifier(class_weight=None,\n",
    "                                              criterion='gini', max_depth=None,\n",
    "                                              max_features=None,\n",
    "                                              max_leaf_nodes=None,\n",
    "                                              min_impurity_decrease=0.0,\n",
    "                                              min_impurity_split=None,\n",
    "                                              min_samples_leaf=1,\n",
    "                                              min_samples_split=2,\n",
    "                                              min_weight_fraction_leaf=0.0,\n",
    "                                              presort=False, random_state=None,\n",
    "                                              splitter='best'),\n",
    "             iid='warn', n_jobs=None,\n",
    "             param_grid={'criterion': ['gini', 'entropy'],\n",
    "                         'max_depth': [None, 2, 3, 4, 5, 6],\n",
    "                         'min_samples_leaf': [1, 2, 3, 4, 5, 6],\n",
    "                         'min_samples_split': [2, 5, 10]},\n",
    "             pre_dispatch='2*n_jobs', refit=True, return_train_score=True,\n",
    "             scoring=None, verbose=0)"
   ]
  },
  {
   "cell_type": "code",
   "execution_count": null,
   "metadata": {},
   "outputs": [],
   "source": [
    "#Mean training score\n",
    "dt_gs_training_score = np.mean(dt_grid_search.cv_results_['mean_train_score'])"
   ]
  },
  {
   "cell_type": "code",
   "execution_count": null,
   "metadata": {},
   "outputs": [],
   "source": [
    "#Mean test score\n",
    "dt_gs_testing_score = dt_grid_search.score(X_test, y_test)"
   ]
  },
  {
   "cell_type": "code",
   "execution_count": null,
   "metadata": {},
   "outputs": [],
   "source": [
    "print(f\"Mean Training Score: {dt_gs_training_score :.2%}\")\n",
    "print(f\"Mean Test Score: {dt_gs_testing_score :.2%}\")\n",
    "print(\"Best Parameter Combination Found During Grid Search:\")\n",
    "dt_grid_search.best_params_"
   ]
  },
  {
   "cell_type": "code",
   "execution_count": null,
   "metadata": {},
   "outputs": [],
   "source": []
  }
 ],
 "metadata": {
  "kernelspec": {
   "display_name": "learn-env",
   "language": "python",
   "name": "learn-env"
  },
  "language_info": {
   "codemirror_mode": {
    "name": "ipython",
    "version": 3
   },
   "file_extension": ".py",
   "mimetype": "text/x-python",
   "name": "python",
   "nbconvert_exporter": "python",
   "pygments_lexer": "ipython3",
   "version": "3.6.12"
  }
 },
 "nbformat": 4,
 "nbformat_minor": 4
}
